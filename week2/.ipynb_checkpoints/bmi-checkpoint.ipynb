{
 "cells": [
  {
   "cell_type": "code",
   "execution_count": 2,
   "metadata": {},
   "outputs": [
    {
     "ename": "SyntaxError",
     "evalue": "invalid syntax (<ipython-input-2-2cccf6b67657>, line 17)",
     "output_type": "error",
     "traceback": [
      "\u001b[1;36m  File \u001b[1;32m\"<ipython-input-2-2cccf6b67657>\"\u001b[1;36m, line \u001b[1;32m17\u001b[0m\n\u001b[1;33m    if choice === 'exit':\u001b[0m\n\u001b[1;37m                ^\u001b[0m\n\u001b[1;31mSyntaxError\u001b[0m\u001b[1;31m:\u001b[0m invalid syntax\n"
     ]
    }
   ],
   "source": [
    "def validate_positive(measurement):\n",
    "    if measurement <= 0:\n",
    "        raise ValueError\n",
    "\n",
    "def calculate_bmi():\n",
    "    try:\n",
    "        weight_in_kg = float(input('Enter weight in kilograms: '))\n",
    "        validate_positive(weight_in_kg)\n",
    "        height_in_cm = float(input('Enter height in centimetres: '))\n",
    "        validate_positive(height_in_cm)\n",
    "        bmi = weight_in_kg / (height_in_cm / 100)\n",
    "        print('BMI is ' + str(round(bmi, 2)))\n",
    "    except(ValueError):\n",
    "        print('Invalid value entered')\n",
    "    finally:\n",
    "        choice = input('Enter any key to try again, or enter \"exit\" (case-sensitive) to quit')\n",
    "        if choice == 'exit':\n",
    "            print('Goodbye')\n",
    "        else:\n",
    "           calculate_bmi() \n",
    "\n",
    "calculate_bmi()"
   ]
  },
  {
   "cell_type": "markdown",
   "metadata": {},
   "source": [
    "##### "
   ]
  },
  {
   "cell_type": "code",
   "execution_count": null,
   "metadata": {},
   "outputs": [],
   "source": []
  }
 ],
 "metadata": {
  "kernelspec": {
   "display_name": "Python 3",
   "language": "python",
   "name": "python3"
  },
  "language_info": {
   "codemirror_mode": {
    "name": "ipython",
    "version": 3
   },
   "file_extension": ".py",
   "mimetype": "text/x-python",
   "name": "python",
   "nbconvert_exporter": "python",
   "pygments_lexer": "ipython3",
   "version": "3.8.1"
  }
 },
 "nbformat": 4,
 "nbformat_minor": 4
}
