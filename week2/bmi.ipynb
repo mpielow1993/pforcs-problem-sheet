{
 "cells": [
  {
   "cell_type": "code",
   "execution_count": null,
   "metadata": {},
   "outputs": [
    {
     "name": "stdout",
     "output_type": "stream",
     "text": [
      "Enter weight in kilograms: 67\n",
      "Enter height in centimetres: 55\n",
      "BMI is 221.49\n"
     ]
    }
   ],
   "source": [
    "import math\n",
    "\n",
    "def validate_positive(measurement):\n",
    "    if measurement <= 0:\n",
    "        raise ValueError\n",
    "\n",
    "def calculate_bmi():\n",
    "    try:\n",
    "        weight_in_kg = float(input('Enter weight in kilograms: '))\n",
    "        validate_positive(weight_in_kg)\n",
    "        height_in_cm = float(input('Enter height in centimetres: '))\n",
    "        validate_positive(height_in_cm)\n",
    "        bmi = weight_in_kg / math.pow((height_in_cm / 100), 2)\n",
    "        print('BMI is ' + str(round(bmi, 2)))\n",
    "    except(ValueError):\n",
    "        print('Invalid value entered. You must enter a number greater than 0')\n",
    "    finally:\n",
    "        choice = input('Enter any key to try again, or enter \"exit\" (case-sensitive) to quit')\n",
    "        if choice == 'exit':\n",
    "            print('Goodbye')\n",
    "        else:\n",
    "           calculate_bmi() \n",
    "\n",
    "calculate_bmi()"
   ]
  },
  {
   "cell_type": "markdown",
   "metadata": {},
   "source": [
    "##### "
   ]
  },
  {
   "cell_type": "code",
   "execution_count": null,
   "metadata": {},
   "outputs": [],
   "source": []
  }
 ],
 "metadata": {
  "kernelspec": {
   "display_name": "Python 3",
   "language": "python",
   "name": "python3"
  },
  "language_info": {
   "codemirror_mode": {
    "name": "ipython",
    "version": 3
   },
   "file_extension": ".py",
   "mimetype": "text/x-python",
   "name": "python",
   "nbconvert_exporter": "python",
   "pygments_lexer": "ipython3",
   "version": "3.8.1"
  }
 },
 "nbformat": 4,
 "nbformat_minor": 4
}
