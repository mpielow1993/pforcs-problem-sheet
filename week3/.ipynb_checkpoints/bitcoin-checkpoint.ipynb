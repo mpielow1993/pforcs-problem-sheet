{
 "cells": [
  {
   "cell_type": "code",
   "execution_count": 12,
   "metadata": {},
   "outputs": [
    {
     "name": "stdout",
     "output_type": "stream",
     "text": [
      "1 BTC = $37,682.09\n"
     ]
    }
   ],
   "source": [
    "import requests\n",
    "\n",
    "url = \"https://api.coindesk.com/v1/bpi/currentprice.json\"\n",
    "data = requests.get(url).json()\n",
    "\n",
    "# Format the float value of the retrieved rate into USD format\n",
    "# Reference: 'https://www.kite.com/python/answers/how-to-format-a-float-as-currency-in-python'\n",
    "one_btc_in_usd = \"${:,.2f}\".format(float(data[\"bpi\"][\"USD\"][\"rate_float\"]))\n",
    "print('1 BTC = ' + one_btc_in_usd)"
   ]
  },
  {
   "cell_type": "code",
   "execution_count": null,
   "metadata": {},
   "outputs": [],
   "source": []
  }
 ],
 "metadata": {
  "kernelspec": {
   "display_name": "Python 3",
   "language": "python",
   "name": "python3"
  },
  "language_info": {
   "codemirror_mode": {
    "name": "ipython",
    "version": 3
   },
   "file_extension": ".py",
   "mimetype": "text/x-python",
   "name": "python",
   "nbconvert_exporter": "python",
   "pygments_lexer": "ipython3",
   "version": "3.8.1"
  }
 },
 "nbformat": 4,
 "nbformat_minor": 4
}
